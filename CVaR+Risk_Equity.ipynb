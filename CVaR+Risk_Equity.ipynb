{
 "cells": [
  {
   "cell_type": "markdown",
   "metadata": {
    "toc": true
   },
   "source": [
    "<h1>Table of Contents<span class=\"tocSkip\"></span></h1>\n",
    "<div class=\"toc\"><ul class=\"toc-item\"><li><span><a href=\"#Sets,-Indices,-and-Parameters\" data-toc-modified-id=\"Sets,-Indices,-and-Parameters-1\"><span class=\"toc-item-num\">1&nbsp;&nbsp;</span>Sets, Indices, and Parameters</a></span></li><li><span><a href=\"#Decision-Variables\" data-toc-modified-id=\"Decision-Variables-2\"><span class=\"toc-item-num\">2&nbsp;&nbsp;</span>Decision Variables</a></span></li><li><span><a href=\"#Routing-Constraints\" data-toc-modified-id=\"Routing-Constraints-3\"><span class=\"toc-item-num\">3&nbsp;&nbsp;</span>Routing Constraints</a></span></li><li><span><a href=\"#Risk-Equity-Constraints\" data-toc-modified-id=\"Risk-Equity-Constraints-4\"><span class=\"toc-item-num\">4&nbsp;&nbsp;</span>Risk Equity Constraints</a></span></li><li><span><a href=\"#Objective-Function\" data-toc-modified-id=\"Objective-Function-5\"><span class=\"toc-item-num\">5&nbsp;&nbsp;</span>Objective Function</a></span></li><li><span><a href=\"#Mathematical-Model-Implementation\" data-toc-modified-id=\"Mathematical-Model-Implementation-6\"><span class=\"toc-item-num\">6&nbsp;&nbsp;</span>Mathematical Model Implementation</a></span><ul class=\"toc-item\"><li><span><a href=\"#Input-Data\" data-toc-modified-id=\"Input-Data-6.1\"><span class=\"toc-item-num\">6.1&nbsp;&nbsp;</span>Input Data</a></span></li><li><span><a href=\"#Modeling\" data-toc-modified-id=\"Modeling-6.2\"><span class=\"toc-item-num\">6.2&nbsp;&nbsp;</span>Modeling</a></span><ul class=\"toc-item\"><li><span><a href=\"#Decision-Variables\" data-toc-modified-id=\"Decision-Variables-6.2.1\"><span class=\"toc-item-num\">6.2.1&nbsp;&nbsp;</span>Decision Variables</a></span></li><li><span><a href=\"#Routing-Constraints\" data-toc-modified-id=\"Routing-Constraints-6.2.2\"><span class=\"toc-item-num\">6.2.2&nbsp;&nbsp;</span>Routing Constraints</a></span></li><li><span><a href=\"#Objective-Function\" data-toc-modified-id=\"Objective-Function-6.2.3\"><span class=\"toc-item-num\">6.2.3&nbsp;&nbsp;</span>Objective Function</a></span></li><li><span><a href=\"#Risk-Equity-Constraints\" data-toc-modified-id=\"Risk-Equity-Constraints-6.2.4\"><span class=\"toc-item-num\">6.2.4&nbsp;&nbsp;</span>Risk Equity Constraints</a></span></li></ul></li><li><span><a href=\"#Solution\" data-toc-modified-id=\"Solution-6.3\"><span class=\"toc-item-num\">6.3&nbsp;&nbsp;</span>Solution</a></span></li></ul></li></ul></div>"
   ]
  },
  {
   "cell_type": "markdown",
   "metadata": {},
   "source": [
    "# Equitable Routing of Rail Hazardous Materials Shipments using CVaR Methodology"
   ]
  },
  {
   "cell_type": "markdown",
   "metadata": {},
   "source": [
    "## Sets, Indices, and Parameters\n",
    "Network $G=(Y,A,S)$\n",
    "- $Y$:\t\tSet of yards in the networks, indexed by $i,j,k$\n",
    "- $A$:\t\tSet of (undirected)  arcs in the networks, indexed by $(i,j)$  and $(k,j)$\n",
    "- $S$: \t\tSet of train services in the network, indexed by $s$ (and/or $s'$)\n",
    "- $Y_s \\in Y$:\tSet of yards in train service {$s$}, indexed by $i_s,j_s,k_s$\n",
    "- $A_s \\in A$:\tSet of (directed)  service legs in train service {$s$}, indexed by $(i_s,j_s)$ and $(k_s,j_s)$\n",
    "- $V$:\t\tSet of shipments in the network, indexed by $v$\n",
    "- $N_v$: \tNumber of hazmat railcars in shipment $v$\n",
    "- $O_v$:\tOrigin of shipment $v$\n",
    "- $D_v$:\tDestination of shipment $v$ \n",
    "\n",
    "\n",
    "- $p_k^v$:\t    Incident probability at transferring yard $k$ resulting from transporting $N_v$ hazmat railcars\n",
    "$$\n",
    "p_{k}^v = 6.42 \\times 10^{-10} \\times N_v\n",
    "$$\n",
    "\n",
    "\n",
    "- $p_{ij}^v$:\tIncident probability in arc $(i,j)$ resulting from transporting $N_v$ hazmat railcars\n",
    "$$\n",
    "p_{ij}^v = \\text{arc} \\ (i,j)\\text{'s length (mile)} \\times 7.35 \\times 10^{-11}\\times N_v\n",
    "$$\n",
    "\n",
    "\n",
    "- $c_k^v$:\t    Consequence at transferring yard $k$ resulting from transporting $N_v$ hazmat railcars\n",
    "- $c_{ij}^v$:\tConsequence in arc $(i,j)$ resulting from transporting $N_v$ hazmat railcars\n"
   ]
  },
  {
   "cell_type": "markdown",
   "metadata": {},
   "source": [
    "## Decision Variables\n",
    "\n",
    "The above notations are used to define the following binary decision variables for routing the shipments through the railroad network using the available train services:\n",
    "\n",
    "$$ x_{i_s j_s}^v =\n",
    "\\begin{cases}\n",
    "  1, \\quad \\text{if shipment } v \\text{ is carried using arc } (i,j) \\text{ of train service } \\{s\\} \\big(\\text{service leg } (i_s, j_s) \\big)\\\\    \n",
    "  0, \\quad \\text{otherwise}  \n",
    "\\end{cases}\n",
    "$$\n",
    "\n",
    "$$ x_{k_s k_{s'}}^v =\n",
    "\\begin{cases}\n",
    "  1, \\quad \\text{if } k \\text{ is a transferring yard between train services } \\{s\\} \\text{ and } \\{s'\\} \\text{ for shipment } v \\\\    \n",
    "  0, \\quad \\text{otherwise}  \n",
    "\\end{cases}\n",
    "$$"
   ]
  },
  {
   "cell_type": "markdown",
   "metadata": {},
   "source": [
    "## Routing Constraints\n",
    "\n",
    "We can build the conservation of flow constraints ($X \\in \\psi$) based on the decision variables as follows:\n",
    "\n",
    "$$\\sum_{j_s} x_{i_s j_s}^v - \\sum_{j_s} x_{j_s i_s}^v=\n",
    "\\begin{cases}\n",
    "  1, \\quad \\text{if } i_s = O_v \\\\ \n",
    "   \\\\\n",
    "  0, \\quad \\text{if } i_s \\ne O_v \\text{ or } D_v \\quad\\quad\\quad\\quad\\quad\\quad\\quad\\quad\\quad\\quad\\quad\\quad\\quad\\quad\\quad \\forall v, \\forall i_s\\\\\n",
    "      \\quad \\quad \\text{(for any non-transferring yard } i_s  \\text{ for shipment } v \\text{)}\\\\\n",
    "   \\\\\n",
    "  -1, \\quad \\text{if } i_s = D_v\n",
    "\\end{cases}\n",
    "$$\n",
    "\n",
    "$$ \n",
    "\\sum_{j_s} x_{k_s j_s}^v - \\sum_{j_{s'}} x_{j_{s'} k_{s'}}^v = 0 \\quad\\quad \\text{for any transferring yard } k_{ss'}  \\text{ for shipment } v \\quad\\quad\\quad\\quad \\forall v, \\forall k_{ss'}\n",
    "$$"
   ]
  },
  {
   "cell_type": "markdown",
   "metadata": {},
   "source": [
    "## Risk Equity Constraints\n",
    "\n",
    "The following two constraints will ensure that the expected consequence in each transferring yard and arc of the network resulting from transporting multiple rail hazmat shipments will not exceed the threshold values $\\delta_k$ and $\\delta_{ij}$, respectively:\n",
    "\n",
    "$$\n",
    "\\bigg(\\sum_{v} \\sum_{s} N(v) \\ x_{i_s j_s}^v \\bigg) p_{ij} \\ c_{ij} \\leq \\delta_{ij} \\quad\\quad \\forall(i,j)\n",
    "$$\n",
    "\n",
    "$$\n",
    "\\bigg(\\sum_{v} \\sum_{s, s'} N(v) \\ x_{k_s k_{s'}}^v \\bigg) p_{k} \\ c_{k} \\leq \\delta_{k} \\quad\\quad \\forall k\n",
    "$$\n",
    "\n",
    "where $p_{ij}$ (or $p_k$) and $c_{ij}$ (or $c_k$) are the incident probability and consequence, respectively resulting from transporting one hazmat railcar in arc $(i,j)$ (or at transferring yard $k$). "
   ]
  },
  {
   "cell_type": "markdown",
   "metadata": {},
   "source": [
    "## Objective Function\n",
    "\n",
    "The objective function of the problem seeks to find the minimum CVaR routes for all the shipments: $\\text{min} \\sum_v{\\text{CVaR}_\\alpha(v)}$, where\n",
    "\n",
    "$$\n",
    "\\text{CVaR}_\\alpha^r(v) = C_{(r)}^v + \\frac{1}{1-\\alpha} \\bigg( \\sum_{s, s'} \\sum_{k, \\ c_k^v>C_{(r)}^v} p_{k}^v\\big(c_k^v - C_{(r)}^v\\big)x_{k_s k_{s'}}^v + \\sum_{s} \\sum_{(i,j), \\ c_{ij}^v>C_{(r)}^v} p_{ij}^v\\big(c_{ij}^v - C_{(r)}^v\\big)x_{i_s j_s}^v \\bigg)\n",
    "$$\n",
    "\n",
    "and $C_{(r)}^v; \\ r \\in \\{0, 1, 2, \\dots, M\\} \\big(C_{(0)}^v = 0\\big)$ is the $r$th smallest value in the set $\\{c_k^v \\cup c_{ij}^v: k \\in Y \\text{ and } (i,j) \\in A \\}$, and $M$ is the total number of yards and arcs of all train services available in the rail network. Therefore, for each shipment the objective is to $\\text{CVaR}_\\alpha^*(v) = \\text{min}_r \\ \\text{CVaR}_\\alpha^r(v)$."
   ]
  },
  {
   "cell_type": "markdown",
   "metadata": {},
   "source": [
    "## Mathematical Model Implementation"
   ]
  },
  {
   "cell_type": "code",
   "execution_count": 1,
   "metadata": {},
   "outputs": [],
   "source": [
    "import numpy as np\n",
    "import xlrd\n",
    "import copy"
   ]
  },
  {
   "cell_type": "markdown",
   "metadata": {},
   "source": [
    "### Input Data"
   ]
  },
  {
   "cell_type": "code",
   "execution_count": 2,
   "metadata": {},
   "outputs": [],
   "source": [
    "loc = \"E:/0 Coding/CPLEX-Python/PhD3/PhD3Data_2.xlsx\"\n",
    "wb = xlrd.open_workbook(loc) "
   ]
  },
  {
   "cell_type": "code",
   "execution_count": 3,
   "metadata": {},
   "outputs": [
    {
     "data": {
      "text/plain": [
       "{1: (1, 2, 2), 2: (1, 4, 11), 3: (1, 6, 3)}"
      ]
     },
     "execution_count": 3,
     "metadata": {},
     "output_type": "execute_result"
    }
   ],
   "source": [
    "sheet = wb.sheet_by_name(\"0.Dmnd_2\")\n",
    "\n",
    "V = {}  # shipments V = {v: (origin, destination, nv)}, nv is the number of hazmat railcars\n",
    "\n",
    "matrixV = []  # input matrix shipment\n",
    "\n",
    "for row in range(1, 2):        # original values: range(1, 26)\n",
    "    for col in range(1, 7):    # original values: range(1, 26)\n",
    "        if col != row:\n",
    "            if sheet.cell_value(row, col) != 0:  # number of hazmat railcars > 0\n",
    "                matrixV.append((row, col, int(sheet.cell_value(row, col))))\n",
    "\n",
    "num_shipments = len(matrixV) \n",
    "\n",
    "for i in range(1, num_shipments+1):\n",
    "    V[i] = matrixV[i-1]\n",
    "                               \n",
    "V"
   ]
  },
  {
   "cell_type": "code",
   "execution_count": 4,
   "metadata": {},
   "outputs": [
    {
     "data": {
      "text/plain": [
       "3"
      ]
     },
     "execution_count": 4,
     "metadata": {},
     "output_type": "execute_result"
    }
   ],
   "source": [
    "num_shipments"
   ]
  },
  {
   "cell_type": "code",
   "execution_count": 5,
   "metadata": {},
   "outputs": [
    {
     "data": {
      "text/plain": [
       "[3, 2, 11]"
      ]
     },
     "execution_count": 5,
     "metadata": {},
     "output_type": "execute_result"
    }
   ],
   "source": [
    "NV = []  # number of hazmat railcars in each shipment\n",
    "for v in V:\n",
    "    NV.append(V[v][2])\n",
    "\n",
    "NV_uni = list(set(NV))  # get the unique values (number of hazmat railcars) from NV\n",
    "NV_uni"
   ]
  },
  {
   "cell_type": "code",
   "execution_count": 6,
   "metadata": {},
   "outputs": [],
   "source": [
    "num_yards = 25\n",
    "num_ts = 31             # number of train services\n",
    "\n",
    "Y = [i for i in range(1, num_yards+1)]         # yards\n",
    "DA = [(i, j) for i in Y for j in Y if i != j]  # directed arcs: i != j\n",
    "\n",
    "S = [i for i in range(1, num_ts+1)]            # train services"
   ]
  },
  {
   "cell_type": "code",
   "execution_count": 7,
   "metadata": {},
   "outputs": [],
   "source": [
    "AL = {(i, j): np.nan for i,j in DA}             # Arc Length(mile)\n",
    "\n",
    "APE = {(i, j, nv): np.nan for i,j in DA for nv in range(1, max(NV_uni)+1)}  # Arc Population Exposure\n",
    "# population exposure of arc (i,j) for carrying nv hazmat railcars\n",
    "                              \n",
    "TS = {ts_n: [] for ts_n in range(1, num_ts+1)}  # {train service number: [route]}"
   ]
  },
  {
   "cell_type": "code",
   "execution_count": 8,
   "metadata": {},
   "outputs": [],
   "source": [
    "sheet = wb.sheet_by_name(\"1.ArcLength&PE (ALPE)\")\n",
    "\n",
    "for col in range(1, 168):\n",
    "       \n",
    "    l = sheet.cell_value(3, col)   # arc length\n",
    "    i = sheet.cell_value(1, col)   # node 1 of arc\n",
    "    j = sheet.cell_value(1, col+1) # node 2 of arc\n",
    "    \n",
    "    \n",
    "    ts_n = sheet.cell_value(2, col)   # train service number\n",
    "    TS[ts_n].append(int(i))\n",
    "    \n",
    "    \n",
    "    if l == -1:  # i is the last node of this train service and j is invalid\n",
    "        continue\n",
    "    \n",
    "    if AL[(i, j)] is np.nan:\n",
    "        AL[(i, j)] = l\n",
    "    elif AL[(i, j)] != l:\n",
    "        raise Exception('ERROR! arc({},{}): l = {} <-> AL = {}'.format(i, j, l, AL[(i, j)]))\n",
    "        \n",
    "    if AL[(j, i)] is np.nan:\n",
    "        AL[(j, i)] = l\n",
    "    elif AL[(j, i)] != l:\n",
    "        raise Exception('ERROR! arc({},{}): l = {} <-> AL = {}'.format(j, i, l, AL[(j, i)]))\n",
    "\n",
    "        \n",
    "    for row in range(4, int(max(NV_uni))+1+3):  \n",
    "        \n",
    "        # row 4 of input matrix shows the population exposure for 1 hazmat railcar and so on (3 = 4-1)\n",
    "        pe = sheet.cell_value(row, col)  # population exposure\n",
    "        \n",
    "        if APE[(i, j, row-3)] is np.nan:\n",
    "            APE[(i, j, row-3)] = pe\n",
    "        elif APE[(i, j, row-3)] != pe:\n",
    "            raise Exception('ERROR! arc({},{}): pe = {} <-> APE = {}'.format(i, j, pe, APE[(i, j, row-3)]))\n",
    "        \n",
    "        if APE[(j, i, row-3)] is np.nan:\n",
    "            APE[(j, i, row-3)] = pe\n",
    "        elif APE[(j, i, row-3)] != pe:\n",
    "            raise Exception('ERROR! arc({},{}): pe = {} <-> APE = {}'.format(j, i, pe, APE[(j, i, row-3)]))"
   ]
  },
  {
   "cell_type": "code",
   "execution_count": 9,
   "metadata": {},
   "outputs": [],
   "source": [
    "# Arc Length(mile) --> {arc(i,j): length}\n",
    "\n",
    "AL = {k: AL[k] for k in AL if not np.isnan(AL[k])}  # remove invalid elements (with 'nan' length)\n",
    "#AL"
   ]
  },
  {
   "cell_type": "code",
   "execution_count": 10,
   "metadata": {},
   "outputs": [],
   "source": [
    "# Arc(i,j)'s Population Exposure --> {(i,j,nv): value}, nv is the number of hazmat railcars in shipment v\n",
    "\n",
    "APE = {k: APE[k] for k in APE if not np.isnan(APE[k])}  # remove invalid elements (with 'nan' value)\n",
    "#APE"
   ]
  },
  {
   "cell_type": "code",
   "execution_count": 11,
   "metadata": {},
   "outputs": [
    {
     "data": {
      "text/plain": [
       "{1: [2, 6, 20, 19],\n",
       " 2: [2, 6, 7, 22, 21],\n",
       " 3: [2, 6, 7, 22, 23],\n",
       " 4: [17, 6, 8, 9],\n",
       " 5: [2, 4, 9, 25, 12],\n",
       " 6: [2, 1, 3, 5, 14, 13, 15],\n",
       " 7: [19, 22, 7, 8, 9],\n",
       " 8: [19, 22, 24, 25, 12, 15],\n",
       " 9: [20, 7, 23, 21],\n",
       " 10: [17, 16, 18, 20, 22, 24, 23],\n",
       " 11: [9, 8, 4, 3, 1],\n",
       " 12: [9, 10, 14, 13, 15],\n",
       " 13: [9, 7, 17, 18],\n",
       " 14: [9, 25, 24, 22, 21],\n",
       " 15: [9, 7, 22, 23],\n",
       " 16: [9, 8, 4, 3, 2],\n",
       " 17: [23, 24, 8, 4, 2],\n",
       " 18: [23, 25, 11, 10, 14, 5],\n",
       " 19: [23, 20, 18, 17, 16],\n",
       " 20: [23, 25, 12, 15, 13],\n",
       " 21: [21, 22, 7, 6, 2],\n",
       " 22: [21, 23, 24, 25, 11, 13, 14],\n",
       " 23: [25, 24, 22, 20, 18, 19],\n",
       " 24: [12, 11, 10, 4, 2],\n",
       " 25: [12, 13, 14, 5, 3, 1, 2],\n",
       " 26: [12, 25, 24, 22, 20, 18, 16, 17],\n",
       " 27: [15, 11, 9, 8, 7],\n",
       " 28: [13, 10, 9, 7, 20, 19],\n",
       " 29: [14, 13, 11, 25, 23],\n",
       " 30: [15, 12, 25, 23, 21],\n",
       " 31: [15, 12, 11, 9, 7, 20, 19]}"
      ]
     },
     "execution_count": 11,
     "metadata": {},
     "output_type": "execute_result"
    }
   ],
   "source": [
    "TS  # Train Services --> {train service number: [route]}"
   ]
  },
  {
   "cell_type": "code",
   "execution_count": 12,
   "metadata": {},
   "outputs": [],
   "source": [
    "AAY1 = []  # Acceptable Arcs and Yards 1: [yard1, s, yard2, s]\n",
    "           # moving from yard1 to yard2 on the same train service s\n",
    "for s in TS:\n",
    "    for i in range(len(TS[s])-1):\n",
    "        AAY1.append([int(TS[s][i]), s, int(TS[s][i+1]), s])\n",
    "        \n",
    "# AAY1"
   ]
  },
  {
   "cell_type": "code",
   "execution_count": 13,
   "metadata": {},
   "outputs": [
    {
     "data": {
      "text/plain": [
       "{1: [6, 11, 25],\n",
       " 2: [1, 2, 3, 5, 6, 16, 17, 21, 24, 25],\n",
       " 3: [6, 11, 16, 25],\n",
       " 4: [5, 11, 16, 17, 24],\n",
       " 5: [6, 18, 25],\n",
       " 6: [1, 2, 3, 4, 21],\n",
       " 7: [2, 3, 7, 9, 13, 15, 21, 27, 28, 31],\n",
       " 8: [4, 7, 11, 16, 17, 27],\n",
       " 9: [4, 5, 7, 11, 12, 13, 14, 15, 16, 27, 28, 31],\n",
       " 10: [12, 18, 24, 28],\n",
       " 11: [18, 22, 24, 27, 29, 31],\n",
       " 12: [5, 8, 20, 24, 25, 26, 30, 31],\n",
       " 13: [6, 12, 20, 22, 25, 28, 29],\n",
       " 14: [6, 12, 18, 22, 25, 29],\n",
       " 15: [6, 8, 12, 20, 27, 30, 31],\n",
       " 16: [10, 19, 26],\n",
       " 17: [4, 10, 13, 19, 26],\n",
       " 18: [10, 13, 19, 23, 26],\n",
       " 19: [1, 7, 8, 23, 28, 31],\n",
       " 20: [1, 9, 10, 19, 23, 26, 28, 31],\n",
       " 21: [2, 9, 14, 21, 22, 30],\n",
       " 22: [2, 3, 7, 8, 10, 14, 15, 21, 23, 26],\n",
       " 23: [3, 9, 10, 15, 17, 18, 19, 20, 22, 29, 30],\n",
       " 24: [8, 10, 14, 17, 22, 23, 26],\n",
       " 25: [5, 8, 14, 18, 20, 22, 23, 26, 29, 30]}"
      ]
     },
     "execution_count": 13,
     "metadata": {},
     "output_type": "execute_result"
    }
   ],
   "source": [
    "Y_TS = {yard : [] for yard in range(1, num_yards+1)}  # this Yard is in these Train Services\n",
    "\n",
    "for yard in Y_TS:\n",
    "    for s in TS:\n",
    "        for node in (TS[s]):\n",
    "            if yard == node:\n",
    "                Y_TS[yard].append(s)\n",
    "Y_TS"
   ]
  },
  {
   "cell_type": "code",
   "execution_count": 14,
   "metadata": {},
   "outputs": [],
   "source": [
    "AAY2 = []  # Acceptable Arcs and Yards 2: [yard, s, yard, s']\n",
    "           # transfer operation at the yard between train services s and s'\n",
    "\n",
    "import itertools\n",
    "\n",
    "for yard in Y_TS:\n",
    "    p_ts = list(itertools.permutations(Y_TS[yard], 2))  # 2-permutation of all train services of a yard\n",
    "    for i in range(len(p_ts)):\n",
    "        AAY2.append([yard, p_ts[i][0], yard, p_ts[i][1]])  \n",
    "\n",
    "# AAY2"
   ]
  },
  {
   "cell_type": "code",
   "execution_count": 15,
   "metadata": {},
   "outputs": [
    {
     "data": {
      "text/plain": [
       "1248"
      ]
     },
     "execution_count": 15,
     "metadata": {},
     "output_type": "execute_result"
    }
   ],
   "source": [
    "AAY = AAY1 + AAY2 # Acceptable Arcs and Yards: [[yard1, s, yard2, s], [yard, s1, yard, s2]]\n",
    "len(AAY)"
   ]
  },
  {
   "cell_type": "code",
   "execution_count": 16,
   "metadata": {},
   "outputs": [],
   "source": [
    "AAYV = []  # Acceptable Arcs and Yards for each shipment v (decision variables): \n",
    "for v in V:\n",
    "    for aay in AAY:\n",
    "        AAYV.append([v] + aay)\n",
    "        \n",
    "for i in range(len(AAYV)):\n",
    "    AAYV[i] = tuple(AAYV[i])                               # (v, yard1, s, yard2, s) or (v, yard, s, yard, s')\n",
    "    \n",
    "#AAYV"
   ]
  },
  {
   "cell_type": "code",
   "execution_count": 17,
   "metadata": {},
   "outputs": [
    {
     "data": {
      "text/plain": [
       "3744"
      ]
     },
     "execution_count": 17,
     "metadata": {},
     "output_type": "execute_result"
    }
   ],
   "source": [
    "len(AAYV)"
   ]
  },
  {
   "cell_type": "code",
   "execution_count": 18,
   "metadata": {},
   "outputs": [],
   "source": [
    "sheet = wb.sheet_by_name(\"4.YardPE (YPE)\")\n",
    "\n",
    "YPE = {}\n",
    "# Yard k's Population Exposure --> {(k,nv): value}, nv is the number of hazmat railcars in shipment v\n",
    "\n",
    "for col in range(1, num_yards+1):\n",
    "    for row in range(2, int(max(NV_uni))+1+1):  \n",
    "        \n",
    "        # row 2 of input matrix shows the population exposure for 1 hazmat railcar and so on (1 = 2-1)\n",
    "        \n",
    "        pe = sheet.cell_value(row, col)  # population exposure       \n",
    "        YPE[(col, row-1)] = pe\n",
    "#YPE"
   ]
  },
  {
   "cell_type": "markdown",
   "metadata": {},
   "source": [
    "### Modeling"
   ]
  },
  {
   "cell_type": "code",
   "execution_count": 19,
   "metadata": {},
   "outputs": [],
   "source": [
    "alpha = 0.999999\n",
    "delta_arc = 220 * 10**(-5)\n",
    "delta_yard = 16 * 10**(-5)"
   ]
  },
  {
   "cell_type": "code",
   "execution_count": 20,
   "metadata": {},
   "outputs": [],
   "source": [
    "from docplex.mp.model import Model\n",
    "\n",
    "mdl = Model('CVaR+Equity')"
   ]
  },
  {
   "cell_type": "markdown",
   "metadata": {},
   "source": [
    "#### Decision Variables"
   ]
  },
  {
   "cell_type": "code",
   "execution_count": 21,
   "metadata": {},
   "outputs": [],
   "source": [
    "x = mdl.binary_var_dict(AAYV, name='x')\n",
    "# x"
   ]
  },
  {
   "cell_type": "markdown",
   "metadata": {},
   "source": [
    "#### Routing Constraints"
   ]
  },
  {
   "cell_type": "markdown",
   "metadata": {},
   "source": [
    "_EXAMPLE_. Yard $\\color{blue}1$ exists in the train services {6}, {11}, and {25} as follows \n",
    "\n",
    "$\n",
    "\\{6\\}: 2 \\rightarrow \\color{blue}1 \\rightarrow 3 \\rightarrow \\dots \\\\\n",
    "\\{11\\}: \\dots \\rightarrow 3 \\rightarrow \\color{blue}1 \\\\\n",
    "\\{25\\}: \\dots \\rightarrow 3 \\rightarrow \\color{blue}1 \\rightarrow 2\n",
    "$"
   ]
  },
  {
   "cell_type": "markdown",
   "metadata": {},
   "source": [
    "- if $i = \\color{blue}1$ is the origin or destination of shipment $v$, the following arcs will be used at the beginning or end of shipment $v$'s route:\n",
    "\n",
    "$$\n",
    "\\sum_{so, \\ j, \\ st \\ \\in AAY1} x[v, i, so, j, st] \\quad - \\sum_{j, \\ so, \\ st \\ \\in AAY1} x[v, j, so, i, st] \\quad = \\quad \\pm 1 \\quad \\forall v, \\ i\n",
    "$$\n",
    "\n",
    "> $AAY1$: set 1 of Acceptable Arcs and Yards: $(yard1, s, yard2, s)$; moving from $yard1$ to $yard2$ on the same train service $s$ \n",
    "\n",
    "\n",
    "$$\n",
    "(\\frac{\\color{blue}1}{\\{6\\}} , \\frac{3}{\\{6\\}}) + (\\frac{\\color{blue}1}{\\{25\\}} , \\frac{2}{\\{25\\}}) - (\\frac{2}{\\{6\\}} , \\frac{\\color{blue}1}{\\{6\\}}) - (\\frac{3}{\\{11\\}} , \\frac{\\color{blue}1}{\\{11\\}}) - (\\frac{3}{\\{25\\}} , \\frac{\\color{blue}1}{\\{25\\}}) = \n",
    "\\begin{cases}\n",
    "  +1 \\quad \\text{if } \\color{blue}1 \\text{ is the origin of shipment } v \\\\    \n",
    "  -1 \\quad \\text{if } \\color{blue}1 \\text{ is the destination of shipment } v   \n",
    "\\end{cases}\n",
    "$$"
   ]
  },
  {
   "cell_type": "markdown",
   "metadata": {},
   "source": [
    "- If $i = \\color{blue}1$ is not the origin nor destination of shipment $v$, the following combinations of arcs may be used in the middle of the shipment $v$'s route, not at the beginning nor end of the route:\n",
    "\n",
    "$$\n",
    "\\sum_{j, \\ st \\ \\in AAY} x[v, i, so, j, st] \\quad - \\sum_{j, \\ st \\ \\in AAY} x[v, j, st, i, so] \\quad = \\quad 0 \\quad \\forall v, \\ (i, so)\n",
    "$$\n",
    "\n",
    "> $AAY$: the complete set of Acceptable Arcs and Yards: $(yard1, s, yard2, s) \\text{ or } (yard, s, yard, s'); AAY1 + AAY2$\n",
    "\n",
    "\n",
    "$$\n",
    "(\\frac{\\color{blue}1}{\\color{blue}\\{\\color{blue}6\\color{blue}\\}} , \\frac{3}{\\{6\\}}) + (\\frac{\\color{blue}1}{\\color{blue}\\{\\color{blue}6\\color{blue}\\}} , \\frac{1}{\\{11\\}}) + (\\frac{\\color{blue}1}{\\color{blue}\\{\\color{blue}6\\color{blue}\\}} , \\frac{1}{\\{25\\}}) - (\\frac{2}{\\{6\\}} , \\frac{\\color{blue}1}{\\color{blue}\\{\\color{blue}6\\color{blue}\\}}) - (\\frac{1}{\\{11\\}} , \\frac{\\color{blue}1}{\\color{blue}\\{\\color{blue}6\\color{blue}\\}}) - (\\frac{1}{\\{25\\}} , \\frac{\\color{blue}1}{\\color{blue}\\{\\color{blue}6\\color{blue}\\}}) = 0\n",
    "$$\n",
    "\n",
    "$$\n",
    "(\\frac{\\color{blue}1}{\\color{blue}\\{\\color{blue}{11}\\color{blue}\\}} , \\frac{1}{\\{6\\}}) + (\\frac{\\color{blue}1}{\\color{blue}\\{\\color{blue}{11}\\color{blue}\\}} , \\frac{1}{\\{25\\}}) - (\\frac{3}{\\{11\\}} , \\frac{\\color{blue}1}{\\color{blue}\\{\\color{blue}{11}\\color{blue}\\}}) - (\\frac{1}{\\{6\\}} , \\frac{\\color{blue}1}{\\color{blue}\\{\\color{blue}{11}\\color{blue}\\}}) - (\\frac{1}{\\{25\\}} , \\frac{\\color{blue}1}{\\color{blue}\\{\\color{blue}{11}\\color{blue}\\}}) = 0\n",
    "$$\n",
    "\n",
    "$$\n",
    "(\\frac{\\color{blue}1}{\\color{blue}\\{\\color{blue}{25}\\color{blue}\\}} , \\frac{2}{\\{25\\}}) + (\\frac{\\color{blue}1}{\\color{blue}\\{\\color{blue}{25}\\color{blue}\\}} , \\frac{1}{\\{6\\}}) - (\\frac{3}{\\{25\\}} , \\frac{\\color{blue}1}{\\color{blue}\\{\\color{blue}{25}\\color{blue}\\}}) - (\\frac{1}{\\{6\\}} , \\frac{\\color{blue}1}{\\color{blue}\\{\\color{blue}{25}\\color{blue}\\}}) - (\\frac{1}{\\{11\\}} , \\frac{\\color{blue}1}{\\color{blue}\\{\\color{blue}{25}\\color{blue}\\}}) = 0\n",
    "$$\n",
    "\n",
    "The above arcs with the same node $\\color{blue}1$ show the possible __transfer operations__ at yard $i=\\color{blue}1$ for each shipment $v$."
   ]
  },
  {
   "cell_type": "code",
   "execution_count": 22,
   "metadata": {},
   "outputs": [],
   "source": [
    "I = []\n",
    "J = []\n",
    "for i,so,j,st in AAY1: # [yard1, s, yard2, s]\n",
    "    I.append(i)        # I: set of \"i\"s in (i, so, j, st) of Acceptable Arcs and Yards 1\n",
    "    J.append(j)        # J: set of \"j\"s in (i, so, j, st) of Acceptable Arcs and Yards 1\n",
    "    \n",
    "I_uni = list(set(I))   # unique values of I\n",
    "J_uni = list(set(J))   # unique values of J\n",
    "\n",
    "sub1_AAY1 = {i: [] for i in I_uni}\n",
    "sub2_AAY1 = {j: [] for j in J_uni}\n",
    "\n",
    "for i,so,j,st in AAY:\n",
    "    sub1_AAY1[i].append((so, j, st)) # subset 1 of AAY1: lists all the combinations (so, j, st) that come with i\n",
    "    sub2_AAY1[j].append((i, so, st)) # subset 2 of AAY1: lists all the combinations (i, so, st) that come with j\n",
    "    \n",
    "# sub1_AAY1"
   ]
  },
  {
   "cell_type": "code",
   "execution_count": 23,
   "metadata": {},
   "outputs": [],
   "source": [
    "ISo = []\n",
    "JSt = []\n",
    "for i,so,j,st in AAY:\n",
    "    ISo.append((i, so))    # ISo: set of \"(i, so)\"s in (i, so, j, st) of Acceptable Arcs and Yards \n",
    "    JSt.append((j, st))    # JSt: set of \"(j, st)\"s in (i, so, j, st) of Acceptable Arcs and Yards\n",
    "    \n",
    "ISo_uni = list(set(ISo))   # unique values of ISo\n",
    "JSt_uni = list(set(JSt))   # unique values of JSt\n",
    "\n",
    "sub1_AAY = {(i, so): [] for i,so in ISo_uni}\n",
    "sub2_AAY = {(j, st): [] for j,st in JSt_uni}\n",
    "\n",
    "for i,so,j,st in AAY:\n",
    "    sub1_AAY[(i, so)].append((j, st)) # subset 1 of AAY: lists all the combinations (j,st) that come after (i,so)\n",
    "    sub2_AAY[(j, st)].append((i, so)) # subset 2 of AAY: lists all the combinations (i,so) that come before (j,st)\n",
    "    \n",
    "# sub1_AAY"
   ]
  },
  {
   "cell_type": "code",
   "execution_count": 24,
   "metadata": {},
   "outputs": [],
   "source": [
    "# constraints\n",
    "for v in V:\n",
    "    for i in Y:        \n",
    "        if i == V[v][0]:  # i is the origin of shipment v\n",
    "            mdl.add_constraint(mdl.sum(x[v, i, so, j, st] for so,j,st in sub1_AAY1[i]) - \n",
    "                                 mdl.sum(x[v, j, so, i, st] for j,so,st in sub2_AAY1[i]) == +1)\n",
    "\n",
    "        elif i == V[v][1]: # i is the destination of shipment v\n",
    "            mdl.add_constraint(mdl.sum(x[v, i, so, j, st] for so,j,st in sub1_AAY1[i]) - \n",
    "                                 mdl.sum(x[v, j, so, i, st] for j,so,st in sub2_AAY1[i]) == -1)\n",
    "\n",
    "        else:  # i may be a transshipment point in shipment v's route\n",
    "            for so in Y_TS[i]:\n",
    "                mdl.add_constraint(mdl.sum(x[v, i, so, j, st] for j,st in sub1_AAY[(i, so)]) - \n",
    "                                     mdl.sum(x[v, j, st, i, so] for j,st in sub2_AAY[(i, so)]) == 0)"
   ]
  },
  {
   "cell_type": "markdown",
   "metadata": {},
   "source": [
    "#### Objective Function"
   ]
  },
  {
   "cell_type": "markdown",
   "metadata": {},
   "source": [
    "$$\\begin{align}\\\n",
    "p_{ij}^v = \\text{arc} \\ (i,j)\\text{'s length (mile)} \\times 7.35 \\times 10^{-11} \\times N_v\n",
    "\\end{align}$$"
   ]
  },
  {
   "cell_type": "code",
   "execution_count": 25,
   "metadata": {},
   "outputs": [],
   "source": [
    "# accident probability in arc (i,j) for nv hazmat railcars\n",
    "pa = {}\n",
    "\n",
    "for nv in NV_uni:\n",
    "    for i,j in AL:\n",
    "        pa[(i, j, nv)] = AL[(i, j)] * 7.35 * 10**(-11) * nv     # AL: Arc Length(mile) --> {arc(i,j): length}"
   ]
  },
  {
   "cell_type": "markdown",
   "metadata": {},
   "source": [
    "$$\\begin{align}\\\n",
    "p_{k}^v = 6.42 \\times 10^{-10} \\times N_v\n",
    "\\end{align}$$"
   ]
  },
  {
   "cell_type": "code",
   "execution_count": 26,
   "metadata": {},
   "outputs": [],
   "source": [
    "# accident probability at yards for nv hazmat railcars\n",
    "py = {}\n",
    "\n",
    "for nv in NV_uni:\n",
    "    py[nv] = 6.42 * 10**(-10) * nv"
   ]
  },
  {
   "cell_type": "markdown",
   "metadata": {},
   "source": [
    "$c_{ij}^v$:\tConsequence in arc $(i,j)$ resulting from transporting $N_v$ hazmat railcars\n",
    "\n",
    "$c_k^v$:\t    Consequence at transferring yard $k$ resulting from transporting $N_v$ hazmat railcars"
   ]
  },
  {
   "cell_type": "code",
   "execution_count": 27,
   "metadata": {},
   "outputs": [],
   "source": [
    "# APE: Arc(i,j)'s Population Exposure --> {(i,j,nv): value}, nv is the number of hazmat railcars in shipment v\n",
    "ca = copy.deepcopy(APE)\n",
    "\n",
    "# YPE: Yard k's Population Exposure --> {(k,nv): value}, nv is the number of hazmat railcars in shipment v\n",
    "cy = copy.deepcopy(YPE)"
   ]
  },
  {
   "cell_type": "markdown",
   "metadata": {},
   "source": [
    "$$\n",
    "\\text{CVaR}_\\alpha^r(v) = C_{(r)}^v + \\frac{1}{1-\\alpha} \\bigg( \\sum_{s, s'} \\sum_{k; \\ c_k^v>C_{(r)}^v} p_{k}^v\\big(c_k^v - C_{(r)}^v\\big)x_{k_s k_{s'}}^v + \\sum_{s} \\sum_{(i,j); \\ c_{ij}^v>C_{(r)}^v} p_{ij}^v\\big(c_{ij}^v - C_{(r)}^v\\big)x_{i_s j_s}^v \\bigg)\n",
    "$$"
   ]
  },
  {
   "cell_type": "code",
   "execution_count": 28,
   "metadata": {},
   "outputs": [],
   "source": [
    "C = {nv: [0] for nv in range(1, max(NV_uni)+1)}\n",
    "\n",
    "for i,j,nv in APE:\n",
    "    C[nv].append(APE[(i, j, nv)])\n",
    "    \n",
    "for k,nv in YPE:\n",
    "    C[nv].append(YPE[(k, nv)])\n",
    "    \n",
    "for nv in C:\n",
    "    C[nv] = list(set(C[nv]))  # unique values ????????\n",
    "    C[nv].sort()              # values in order\n",
    "    \n",
    "# C"
   ]
  },
  {
   "cell_type": "code",
   "execution_count": 29,
   "metadata": {},
   "outputs": [],
   "source": [
    "# objective function\n",
    "CVaR = {}\n",
    "for v in V:           # shipments V = {v: (origin, destination, nv)}\n",
    "    nv = V[v][2]\n",
    "    for r in range(len(C[nv])):\n",
    "        CVaR[(v, r)] = C[nv][r]\n",
    "        for (i, so, j, st) in AAY:\n",
    "            if i != j:              # x[v, yard1, s, yard2, s]\n",
    "                if ca[(i, j, nv)] > C[nv][r]:          \n",
    "                    CVaR[(v, r)] += (1/(1-alpha))*(pa[(i, j, nv)]*(ca[(i, j, nv)]-C[nv][r])*x[v, i, so, j, st])\n",
    "                    \n",
    "            else:                   # x[v, yard, s, yard, s']\n",
    "                if cy[(i, nv)] > C[nv][r]:          \n",
    "                    CVaR[(v, r)] += (1/(1-alpha))*(py[nv]*(cy[(i, nv)]-C[nv][r])*x[v, i, so, j, st])\n",
    "# CVaR"
   ]
  },
  {
   "cell_type": "code",
   "execution_count": 30,
   "metadata": {},
   "outputs": [],
   "source": [
    "# objective function\n",
    "mdl.minimize(mdl.sum(mdl.min(CVaR[(v, r)] for r in range(len(C[V[v][2]]))) for v in V))  # nv = V[v][2], for r in range(len(C[nv]))"
   ]
  },
  {
   "cell_type": "markdown",
   "metadata": {},
   "source": [
    "#### Risk Equity Constraints"
   ]
  },
  {
   "cell_type": "code",
   "execution_count": 31,
   "metadata": {},
   "outputs": [],
   "source": [
    "# accident probability in arc (i,j) for 1 hazmat railcar\n",
    "pa1 = {}\n",
    "\n",
    "for i,j in AL:\n",
    "        pa1[(i, j)] = AL[(i, j)] * 7.35 * 10**(-11) * 1     # AL: Arc Length(mile) --> {arc(i,j): length}"
   ]
  },
  {
   "cell_type": "code",
   "execution_count": 32,
   "metadata": {},
   "outputs": [],
   "source": [
    "# accident probability at yards for 1 hazmat railcar\n",
    "py1 = 6.42 * 10**(-10) * 1"
   ]
  },
  {
   "cell_type": "code",
   "execution_count": 33,
   "metadata": {},
   "outputs": [],
   "source": [
    "arc_sup = {(i, j): [] for i,j in AL}  # arc supplementn {arc (i,j): (v, s)}\n",
    "yard_sup = {k: [] for k in Y}         # yard supplement {yard k: (v, s, s')}\n",
    "\n",
    "for (v, i, so, j, st) in AAYV:\n",
    "    if i != j:                        # (v, yard1, s, yard2, s)\n",
    "        arc_sup[(i, j)].append((v, so))\n",
    "        \n",
    "    else:                             # (v, yard, s, yard, s')\n",
    "        yard_sup[i].append((v, so, st))"
   ]
  },
  {
   "cell_type": "code",
   "execution_count": 34,
   "metadata": {},
   "outputs": [],
   "source": [
    "# constraints\n",
    "for (i, j) in AL:\n",
    "    mdl.add_constraint(mdl.sum(V[v][2]*x[v, i, s, j, s] for v,s in arc_sup[(i,j)]) * pa1[(i,j)]*ca[(i, j, 1)] \n",
    "                       <= delta_arc)\n",
    "    \n",
    "for k in Y:\n",
    "    mdl.add_constraint(mdl.sum(V[v][2]*x[v, k, so, k, st] for v,so,st in yard_sup[k]) * py1*cy[(k, 1)] \n",
    "                       <= delta_yard)"
   ]
  },
  {
   "cell_type": "markdown",
   "metadata": {},
   "source": [
    "### Solution"
   ]
  },
  {
   "cell_type": "code",
   "execution_count": 35,
   "metadata": {
    "scrolled": true
   },
   "outputs": [
    {
     "name": "stdout",
     "output_type": "stream",
     "text": [
      "Version identifier: 12.10.0.0 | 2019-11-26 | 843d4de2ae\n",
      "CPXPARAM_Read_DataCheck                          1\n",
      "CPXPARAM_RandomSeed                              201903125\n",
      "CPXPARAM_TimeLimit                               21600\n",
      "Tried aggregator 2 times.\n",
      "MIP Presolve eliminated 374 rows and 170 columns.\n",
      "MIP Presolve modified 39826 coefficients.\n",
      "Aggregator did 85 substitutions.\n",
      "Reduced MIP has 862 rows, 4199 columns, and 196006 nonzeros.\n",
      "Reduced MIP has 3821 binaries, 6 generals, 0 SOSs, and 225 indicators.\n",
      "Presolve time = 0.33 sec. (380.94 ticks)\n",
      "Probing fixed 0 vars, tightened 45 bounds.\n",
      "Probing time = 0.03 sec. (19.67 ticks)\n",
      "Cover probing fixed 0 vars, tightened 117 bounds.\n",
      "Tried aggregator 1 time.\n",
      "Detecting symmetries...\n",
      "MIP Presolve eliminated 1 rows and 2 columns.\n",
      "Reduced MIP has 861 rows, 4197 columns, and 195913 nonzeros.\n",
      "Reduced MIP has 3820 binaries, 6 generals, 0 SOSs, and 224 indicators.\n",
      "Presolve time = 0.14 sec. (105.54 ticks)\n",
      "Probing fixed 0 vars, tightened 36 bounds.\n",
      "Probing time = 0.08 sec. (60.75 ticks)\n",
      "Cover probing fixed 0 vars, tightened 207 bounds.\n",
      "Clique table members: 6.\n",
      "MIP emphasis: balance optimality and feasibility.\n",
      "MIP search method: dynamic search.\n",
      "Parallel mode: deterministic, using up to 8 threads.\n",
      "Root relaxation solution time = 0.06 sec. (62.49 ticks)\n",
      "\n",
      "        Nodes                                         Cuts/\n",
      "   Node  Left     Objective  IInf  Best Integer    Best Bound    ItCnt     Gap\n",
      "\n",
      "      0     0      234.1220     3                    234.1220      582         \n",
      "*     0+    0                         1205.2726      234.1220            80.58%\n",
      "      0     0      234.1220     3     1205.2726   Impl Bds: 2      584   80.58%\n",
      "      0     0      234.1220     3     1205.2726       Cuts: 5      586   80.58%\n",
      "      0     0      234.1220     3     1205.2726   Impl Bds: 2      587   74.94%\n",
      "      0     2      234.1220     3     1205.2726      302.0339      587   74.94%\n",
      "Elapsed time = 1.23 sec. (1135.80 ticks, tree = 0.02 MB, solutions = 1)\n",
      "    345   291      738.7243     7     1205.2726      302.0339     5004   74.94%\n",
      "    905   810      778.7941     8     1205.2726      302.0339    10645   74.94%\n",
      "*  1198  1060      integral     0     1053.5978      302.0339    14113   71.33%\n",
      "   1535  1236      775.7066     8     1053.5978      302.0339    17589   71.33%\n",
      "\n",
      "Performing restart 1\n",
      "\n",
      "Repeating presolve.\n",
      "Tried aggregator 1 time.\n",
      "MIP Presolve eliminated 92 rows and 228 columns.\n",
      "MIP Presolve modified 134013 coefficients.\n",
      "Reduced MIP has 769 rows, 3969 columns, and 120034 nonzeros.\n",
      "Reduced MIP has 3709 binaries, 6 generals, 0 SOSs, and 113 indicators.\n",
      "Presolve time = 0.36 sec. (368.35 ticks)\n",
      "Tried aggregator 1 time.\n",
      "MIP Presolve eliminated 13 rows and 7 columns.\n",
      "MIP Presolve modified 162706 coefficients.\n",
      "Reduced MIP has 756 rows, 3962 columns, and 56948 nonzeros.\n",
      "Reduced MIP has 3704 binaries, 6 generals, 0 SOSs, and 110 indicators.\n",
      "Presolve time = 0.14 sec. (183.12 ticks)\n",
      "Represolve time = 0.56 sec. (596.83 ticks)\n",
      "   1686     0      234.1221     3     1053.5978   Impl Bds: 2    25789   71.33%\n",
      "   1686     0      234.1221     3     1053.5978   Impl Bds: 2    25790   71.33%\n",
      "   1686     0      234.1221     3     1053.5978   Impl Bds: 2    25791   71.33%\n",
      "   1686     0      234.1221     3     1053.5978   Impl Bds: 2    25792   71.33%\n",
      "*  1686+    0                         1046.3541      302.0339            71.13%\n",
      "*  1686+    0                         1035.6340      302.0339            70.84%\n",
      "   1686     0  -1.00000e+75     0     1035.6340      302.0339    25792   70.84%\n",
      "   1686     2      234.1221     3     1035.6340      302.0339    25793   70.84%\n",
      "\n",
      "Implied bound cuts applied:  4\n",
      "\n",
      "Root node processing (before b&c):\n",
      "  Real time             =    1.20 sec. (1133.01 ticks)\n",
      "Parallel b&c, 8 threads:\n",
      "  Real time             =    3.24 sec. (2458.00 ticks)\n",
      "  Sync time (average)   =    0.34 sec.\n",
      "  Wait time (average)   =    0.01 sec.\n",
      "                          ------------\n",
      "Total (root+branch&cut) =    4.44 sec. (3591.01 ticks)\n"
     ]
    }
   ],
   "source": [
    "mdl.set_time_limit(6*60*60)  # time in second\n",
    "solution = mdl.solve(log_output=True)"
   ]
  },
  {
   "cell_type": "code",
   "execution_count": 36,
   "metadata": {},
   "outputs": [
    {
     "data": {
      "text/plain": [
       "<JobSolveStatus.OPTIMAL_SOLUTION: 2>"
      ]
     },
     "execution_count": 36,
     "metadata": {},
     "output_type": "execute_result"
    }
   ],
   "source": [
    "solution.solve_status"
   ]
  },
  {
   "cell_type": "code",
   "execution_count": 37,
   "metadata": {},
   "outputs": [
    {
     "data": {
      "text/plain": [
       "docplex.mp.SolveDetails(time=4.468,status='integer optimal solution')"
      ]
     },
     "execution_count": 37,
     "metadata": {},
     "output_type": "execute_result"
    }
   ],
   "source": [
    "mdl.get_solve_details()"
   ]
  },
  {
   "cell_type": "code",
   "execution_count": 38,
   "metadata": {},
   "outputs": [
    {
     "name": "stdout",
     "output_type": "stream",
     "text": [
      " - number of variables: 4223\n",
      "   - binary=3982, integer=0, continuous=241\n",
      " - number of constraints: 1328\n",
      "   - linear=1090, indicator=238\n"
     ]
    }
   ],
   "source": [
    "mdl.get_statistics().print_information()"
   ]
  },
  {
   "cell_type": "code",
   "execution_count": 39,
   "metadata": {},
   "outputs": [
    {
     "data": {
      "text/plain": [
       "1035.6339884524705"
      ]
     },
     "execution_count": 39,
     "metadata": {},
     "output_type": "execute_result"
    }
   ],
   "source": [
    "mdl.solve_details.best_bound  # This property returns the MIP best bound at the end of the solve."
   ]
  },
  {
   "cell_type": "code",
   "execution_count": 40,
   "metadata": {},
   "outputs": [
    {
     "name": "stdout",
     "output_type": "stream",
     "text": [
      "solution for: CVaR+Equity\n",
      "objective: 1035.63\n",
      "x_1_1_25_2_25=1\n",
      "x_2_2_1_6_1=1\n",
      "x_2_6_4_8_4=1\n",
      "x_2_8_11_4_11=1\n",
      "x_2_1_25_2_25=1\n",
      "x_2_2_25_2_1=1\n",
      "x_2_6_1_6_4=1\n",
      "x_2_8_4_8_11=1\n",
      "x_3_2_1_6_1=1\n",
      "x_3_1_25_2_25=1\n",
      "x_3_2_25_2_1=1\n",
      "\n"
     ]
    }
   ],
   "source": [
    "print(solution)"
   ]
  },
  {
   "cell_type": "code",
   "execution_count": 41,
   "metadata": {},
   "outputs": [],
   "source": [
    "opt_route = {v: [] for v in V}  # optimal route for each shipment v\n",
    "for v in V:\n",
    "    for i,so,j,st in AAY:\n",
    "        if x[(v, i, so, j, st)].solution_value == 1:\n",
    "            opt_route[v].append((i, so, j, st))"
   ]
  },
  {
   "cell_type": "code",
   "execution_count": 42,
   "metadata": {},
   "outputs": [
    {
     "name": "stdout",
     "output_type": "stream",
     "text": [
      "Optimal Route of Shipments:\n",
      "---------------------------\n",
      "#1: 1{25}-2{25}\n",
      "#2: 1{25}-2{25} --> 2{25}-2{1} --> 2{1}-6{1} --> 6{1}-6{4} --> 6{4}-8{4} --> 8{4}-8{11} --> 8{11}-4{11}\n",
      "#3: 1{25}-2{25} --> 2{25}-2{1} --> 2{1}-6{1}\n"
     ]
    }
   ],
   "source": [
    "# display the optimal route of each shipment in order; from origin to destination\n",
    "print('Optimal Route of Shipments:')\n",
    "print('---------------------------')\n",
    "    \n",
    "for v in V:                         # remember: all types of the routes here are in the form of (i, so, j, st)\n",
    "    route = opt_route[v]\n",
    "    opt_route_sorted = []\n",
    "    \n",
    "    opt_route_sorted.append(route[0])\n",
    "    #print('opt_route_sorted: ', opt_route_sorted)\n",
    "    route.remove(route[0])\n",
    "    #print('route: ', route)\n",
    "\n",
    "    K = len(route)\n",
    "    #print('K: ', K)\n",
    "\n",
    "    while K > 0:\n",
    "        to_be_removed = []\n",
    "        for k in range(0, K):\n",
    "            #print('k: ', k)\n",
    "\n",
    "            if route[k][0] == opt_route_sorted[len(opt_route_sorted)-1][2]:\n",
    "                opt_route_sorted = opt_route_sorted + [route[k]]\n",
    "                #print('opt_route_sorted: ', opt_route_sorted)\n",
    "                to_be_removed.append(route[k])\n",
    "\n",
    "            elif route[k][2] == opt_route_sorted[0][0]:\n",
    "                opt_route_sorted = [route[k]] + opt_route_sorted\n",
    "                #print('opt_route_sorted: ', opt_route_sorted)\n",
    "                to_be_removed.append(route[k])\n",
    "                \n",
    "            else:\n",
    "                for l in range(len(opt_route_sorted)):  # a transfer operation at a yard\n",
    "                    if (route[k][0]==opt_route_sorted[l][2]) & (route[k][1]==opt_route_sorted[l][3]):\n",
    "                        opt_route_sorted.insert(l+1, route[k])\n",
    "                        #print('opt_route_sorted: ', opt_route_sorted)\n",
    "                        to_be_removed.append(route[k])\n",
    "                        break\n",
    "\n",
    "        route = [e for e in route if e not in to_be_removed]\n",
    "        #print('route: ', route)\n",
    "        K = len(route)\n",
    "        #print('K: ', K)\n",
    "\n",
    "    for m, (i,so,j,st) in enumerate(opt_route_sorted):\n",
    "        if m == 0:\n",
    "            print('#{}: '.format(v), end=\"\")\n",
    "        if m != len(opt_route_sorted)-1:\n",
    "            print('{}{{{}}}-{}{{{}}}'.format(i, so, j, st), end=\" --> \")\n",
    "        else:\n",
    "            print('{}{{{}}}-{}{{{}}}'.format(i, so, j, st))"
   ]
  }
 ],
 "metadata": {
  "hide_input": false,
  "kernelspec": {
   "display_name": "Python 3",
   "language": "python",
   "name": "python3"
  },
  "language_info": {
   "codemirror_mode": {
    "name": "ipython",
    "version": 3
   },
   "file_extension": ".py",
   "mimetype": "text/x-python",
   "name": "python",
   "nbconvert_exporter": "python",
   "pygments_lexer": "ipython3",
   "version": "3.7.4"
  },
  "toc": {
   "base_numbering": "1",
   "nav_menu": {},
   "number_sections": true,
   "sideBar": true,
   "skip_h1_title": true,
   "title_cell": "Table of Contents",
   "title_sidebar": "Contents",
   "toc_cell": true,
   "toc_position": {
    "height": "calc(100% - 180px)",
    "left": "10px",
    "top": "150px",
    "width": "269.6px"
   },
   "toc_section_display": true,
   "toc_window_display": true
  },
  "varInspector": {
   "cols": {
    "lenName": 16,
    "lenType": 16,
    "lenVar": 40
   },
   "kernels_config": {
    "python": {
     "delete_cmd_postfix": "",
     "delete_cmd_prefix": "del ",
     "library": "var_list.py",
     "varRefreshCmd": "print(var_dic_list())"
    },
    "r": {
     "delete_cmd_postfix": ") ",
     "delete_cmd_prefix": "rm(",
     "library": "var_list.r",
     "varRefreshCmd": "cat(var_dic_list()) "
    }
   },
   "types_to_exclude": [
    "module",
    "function",
    "builtin_function_or_method",
    "instance",
    "_Feature"
   ],
   "window_display": false
  }
 },
 "nbformat": 4,
 "nbformat_minor": 2
}
